{
  "cells": [
    {
      "cell_type": "markdown",
      "id": "3f3a2c88",
      "metadata": {
        "id": "3f3a2c88"
      },
      "source": [
        "# 🔍 RAG System: OpenAI + FAISS + LangChain\n",
        "Use symptom, diagnosis, and department data to build a retrieval-augmented chatbot."
      ]
    },
    {
      "cell_type": "code",
      "execution_count": null,
      "id": "a193e975",
      "metadata": {
        "colab": {
          "base_uri": "https://localhost:8080/"
        },
        "id": "a193e975",
        "outputId": "8b83185c-3859-4ab2-d4e9-cc4741055d06"
      },
      "outputs": [
        {
          "output_type": "stream",
          "name": "stdout",
          "text": [
            "\u001b[2K   \u001b[90m━━━━━━━━━━━━━━━━━━━━━━━━━━━━━━━━━━━━━━━━\u001b[0m \u001b[32m2.5/2.5 MB\u001b[0m \u001b[31m40.6 MB/s\u001b[0m eta \u001b[36m0:00:00\u001b[0m\n",
            "\u001b[2K   \u001b[90m━━━━━━━━━━━━━━━━━━━━━━━━━━━━━━━━━━━━━━━━\u001b[0m \u001b[32m44.4/44.4 kB\u001b[0m \u001b[31m2.7 MB/s\u001b[0m eta \u001b[36m0:00:00\u001b[0m\n",
            "\u001b[2K   \u001b[90m━━━━━━━━━━━━━━━━━━━━━━━━━━━━━━━━━━━━━━━━\u001b[0m \u001b[32m50.9/50.9 kB\u001b[0m \u001b[31m3.6 MB/s\u001b[0m eta \u001b[36m0:00:00\u001b[0m\n",
            "\u001b[?25h"
          ]
        }
      ],
      "source": [
        "\n",
        "!pip install -q openai langchain faiss-cpu\n",
        "!pip install -q tiktoken\n",
        "!pip install -q langchain-community"
      ]
    },
    {
      "cell_type": "code",
      "execution_count": null,
      "id": "bdb3aae3",
      "metadata": {
        "id": "bdb3aae3"
      },
      "outputs": [],
      "source": [
        "import sqlite3\n",
        "import pandas as pd\n",
        "from langchain.vectorstores import FAISS\n",
        "from langchain.embeddings import OpenAIEmbeddings\n",
        "from langchain.text_splitter import RecursiveCharacterTextSplitter\n",
        "from langchain.schema import Document # Import Document from langchain.schema instead\n",
        "from langchain.llms import OpenAI\n",
        "from langchain.chains import RetrievalQA\n",
        "import os\n",
        "\n",
        "# 🔐 Add your OpenAI key\n",
        "os.environ[\"OPENAI_API_KEY\"] = OPENAI_API_KEY"
      ]
    },
    {
      "cell_type": "code",
      "execution_count": null,
      "id": "b734f911",
      "metadata": {
        "id": "b734f911"
      },
      "outputs": [],
      "source": [
        "\n",
        "# Connect and extract data\n",
        "conn = sqlite3.connect(\"/content/teambeebsss.db\")\n",
        "\n",
        "symptoms = pd.read_sql_query(\"SELECT name, description FROM Symptoms\", conn)\n",
        "diagnosis = pd.read_sql_query(\"SELECT name, description, urgency FROM Diagnosis\", conn)\n",
        "departments = pd.read_sql_query(\"SELECT name FROM Departments\", conn)\n",
        "conn.close()\n",
        "\n",
        "# Convert to text chunks\n",
        "# Connect and extract data\n",
        "import sqlite3\n",
        "import pandas as pd\n",
        "\n",
        "conn = sqlite3.connect(\"/content/teambeebsss.db\")\n",
        "\n",
        "symptoms = pd.read_sql_query(\"SELECT name, description FROM Symptoms\", conn)\n",
        "diagnosis = pd.read_sql_query(\"SELECT name, description, urgency FROM Diagnosis\", conn)\n",
        "departments = pd.read_sql_query(\"SELECT name FROM Departments\", conn)\n",
        "conn.close()\n",
        "\n",
        "# Convert to text chunks\n",
        "docs = []\n",
        "\n",
        "for _, row in symptoms.iterrows():\n",
        "    text = f\"Symptom: {row['name']}\\nDescription: {row['description']}\"\n",
        "    docs.append(text)\n",
        "\n",
        "for _, row in diagnosis.iterrows():\n",
        "    text = f\"Diagnosis: {row['name']} (Urgency: {row['urgency']})\\nDescription: {row['description']}\"\n",
        "    docs.append(text)\n",
        "\n",
        "for _, row in departments.iterrows():\n",
        "    text = f\"Department: {row['name']} (Handles specialized cases)\"\n",
        "    docs.append(text)\n",
        "# Connect and extract data\n",
        "import sqlite3\n",
        "import pandas as pd\n",
        "\n",
        "conn = sqlite3.connect(\"/content/teambeebsss.db\")\n",
        "\n",
        "symptoms = pd.read_sql_query(\"SELECT name, description FROM Symptoms\", conn)\n",
        "diagnosis = pd.read_sql_query(\"SELECT name, description, urgency FROM Diagnosis\", conn)\n",
        "departments = pd.read_sql_query(\"SELECT name FROM Departments\", conn)\n",
        "conn.close()\n",
        "\n",
        "# Convert to text chunks\n",
        "docs = []\n",
        "\n",
        "for _, row in symptoms.iterrows():\n",
        "    text = f\"Symptom: {row['name']}\\nDescription: {row['description']}\"\n",
        "    docs.append(text)\n",
        "\n",
        "for _, row in diagnosis.iterrows():\n",
        "    text = f\"Diagnosis: {row['name']} (Urgency: {row['urgency']})\\nDescription: {row['description']}\"\n",
        "    docs.append(text)\n",
        "\n",
        "for _, row in departments.iterrows():\n",
        "    text = f\"Department: {row['name']} (Handles specialized cases)\"\n",
        "    docs.append(text)\n",
        "    docs.append(text)\n",
        "\n",
        "for _, row in diagnosis.iterrows():\n",
        "    text = f\"Diagnosis: {row['name']} (Urgency: {row['urgency']})\\nDescription: {row['description']}\"\n",
        "    docs.append(text)\n",
        "\n",
        "for _, row in departments.iterrows():\n",
        "    text = f\"Department: {row['name']} (Handles specialized cases)\"\n",
        "    docs.append(text)\n",
        "    docs.append(text)\n",
        "\n",
        "for _, row in departments.iterrows():\n",
        "    text = f\"Department: {row['name']} (Handles specialized cases)\"\n",
        "    docs.append(text)\n"
      ]
    },
    {
      "cell_type": "code",
      "execution_count": null,
      "id": "85e963f1",
      "metadata": {
        "colab": {
          "base_uri": "https://localhost:8080/"
        },
        "id": "85e963f1",
        "outputId": "57207c04-802e-49cc-8602-b968ac82fc98"
      },
      "outputs": [
        {
          "output_type": "stream",
          "name": "stderr",
          "text": [
            "<ipython-input-9-93c6f3f08593>:6: LangChainDeprecationWarning: The class `OpenAIEmbeddings` was deprecated in LangChain 0.0.9 and will be removed in 1.0. An updated version of the class exists in the :class:`~langchain-openai package and should be used instead. To use it run `pip install -U :class:`~langchain-openai` and import as `from :class:`~langchain_openai import OpenAIEmbeddings``.\n",
            "  embedding = OpenAIEmbeddings()\n"
          ]
        }
      ],
      "source": [
        "\n",
        "# Split into smaller chunks\n",
        "text_splitter = RecursiveCharacterTextSplitter(chunk_size=300, chunk_overlap=30)\n",
        "all_docs = text_splitter.create_documents(docs)\n",
        "\n",
        "# Embed and store in FAISS\n",
        "embedding = OpenAIEmbeddings()\n",
        "db = FAISS.from_documents(all_docs, embedding)\n",
        "\n",
        "retriever = db.as_retriever()\n"
      ]
    },
    {
      "cell_type": "code",
      "execution_count": null,
      "id": "17cf5b53",
      "metadata": {
        "colab": {
          "base_uri": "https://localhost:8080/"
        },
        "id": "17cf5b53",
        "outputId": "3e9654d1-05d0-43b4-abe4-6b1788ad11a1"
      },
      "outputs": [
        {
          "output_type": "stream",
          "name": "stderr",
          "text": [
            "<ipython-input-10-43e99238b5ce>:2: LangChainDeprecationWarning: The class `OpenAI` was deprecated in LangChain 0.0.10 and will be removed in 1.0. An updated version of the class exists in the :class:`~langchain-openai package and should be used instead. To use it run `pip install -U :class:`~langchain-openai` and import as `from :class:`~langchain_openai import OpenAI``.\n",
            "  llm=OpenAI(temperature=0),\n"
          ]
        }
      ],
      "source": [
        "\n",
        "qa_chain = RetrievalQA.from_chain_type(\n",
        "    llm=OpenAI(temperature=0),\n",
        "    retriever=retriever,\n",
        "    return_source_documents=True\n",
        ")\n"
      ]
    },
    {
      "cell_type": "code",
      "execution_count": null,
      "id": "6f96e842",
      "metadata": {
        "colab": {
          "base_uri": "https://localhost:8080/"
        },
        "id": "6f96e842",
        "outputId": "49eeaf8e-f098-41dd-9da5-c9a883d3830d"
      },
      "outputs": [
        {
          "output_type": "stream",
          "name": "stdout",
          "text": [
            "📍 Answer:  It is possible that you may be experiencing symptoms of a chronic heart attack, as chest pain is a common symptom. It is important to seek medical attention as soon as possible to determine the cause of your chest pain and receive proper treatment.\n"
          ]
        }
      ],
      "source": [
        "\n",
        "query = \"i have chest pains?\"\n",
        "response = qa_chain(query)\n",
        "print(\"📍 Answer:\", response['result'])\n"
      ]
    },
    {
      "cell_type": "code",
      "source": [
        "query = \"do i need to see a doctor if my head is hurting?\"\n",
        "response = qa_chain(query)\n",
        "print(\"📍 Answer:\", response['result'])"
      ],
      "metadata": {
        "colab": {
          "base_uri": "https://localhost:8080/"
        },
        "id": "oeoLuV2oGDwE",
        "outputId": "41693e63-d746-4a5a-8b24-c3cd871544ba"
      },
      "id": "oeoLuV2oGDwE",
      "execution_count": null,
      "outputs": [
        {
          "output_type": "stream",
          "name": "stdout",
          "text": [
            "📍 Answer:  It is always best to consult with a doctor if you are experiencing any type of pain, including a headache. They can properly diagnose the cause of your headache and provide appropriate treatment.\n"
          ]
        }
      ]
    },
    {
      "cell_type": "code",
      "source": [
        "query = \"what are some of the symptoms of the flu?\"\n",
        "response = qa_chain(query)\n",
        "print(\"📍 Answer:\", response['result'])"
      ],
      "metadata": {
        "colab": {
          "base_uri": "https://localhost:8080/"
        },
        "id": "vFQEj8ZhGRrN",
        "outputId": "a3891a52-f29d-4c78-a78a-0b2cb6011479"
      },
      "id": "vFQEj8ZhGRrN",
      "execution_count": null,
      "outputs": [
        {
          "output_type": "stream",
          "name": "stdout",
          "text": [
            "📍 Answer:  Some of the symptoms of the flu may include fever, chills, nausea, and fatigue.\n"
          ]
        }
      ]
    },
    {
      "cell_type": "code",
      "source": [
        "query = \"i need to shedule an appointment because i am feling very fatigued?\"\n",
        "response = qa_chain(query)\n",
        "print(\"📍 Answer:\", response['result'])"
      ],
      "metadata": {
        "colab": {
          "base_uri": "https://localhost:8080/"
        },
        "id": "hsIvPDCrGaWP",
        "outputId": "c4d640d8-f1ba-40ab-d08b-8494fc031bfb"
      },
      "id": "hsIvPDCrGaWP",
      "execution_count": null,
      "outputs": [
        {
          "output_type": "stream",
          "name": "stdout",
          "text": [
            "📍 Answer:  It would be best to schedule an appointment with a doctor to discuss your symptoms of fatigue and determine the underlying cause.\n"
          ]
        }
      ]
    },
    {
      "cell_type": "code",
      "source": [
        "query = \"Can you scheule an appointment for me?\"\n",
        "response = qa_chain(query)\n",
        "print(\"📍 Answer:\", response['result'])"
      ],
      "metadata": {
        "colab": {
          "base_uri": "https://localhost:8080/"
        },
        "id": "OyORXY4SGl9G",
        "outputId": "c2e482c3-d333-4205-e23d-90a4d0ffd59b"
      },
      "id": "OyORXY4SGl9G",
      "execution_count": null,
      "outputs": [
        {
          "output_type": "stream",
          "name": "stdout",
          "text": [
            "📍 Answer:  I am an AI and do not have the ability to schedule appointments. You will need to contact the Speak department for assistance with scheduling appointments.\n"
          ]
        }
      ]
    }
  ],
  "metadata": {
    "colab": {
      "provenance": []
    },
    "language_info": {
      "name": "python"
    },
    "kernelspec": {
      "name": "python3",
      "display_name": "Python 3"
    }
  },
  "nbformat": 4,
  "nbformat_minor": 5
}